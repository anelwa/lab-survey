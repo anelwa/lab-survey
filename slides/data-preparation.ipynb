{
  "cells": [
    {
      "cell_type": "raw",
      "metadata": {},
      "source": [
        "---\n",
        "title: Umfragedaten vorbereiten\n",
        "lang: de\n",
        "subtitle: Survey Teil 1\n",
        "author: Jan Kirenz\n",
        "execute:\n",
        "  eval: true\n",
        "  echo: true\n",
        "highlight-style: github\n",
        "format:\n",
        "  revealjs:\n",
        "    toc: true\n",
        "    toc-depth: 1\n",
        "    embed-resources: false\n",
        "    theme:\n",
        "      - dark\n",
        "      - ../custom.scss\n",
        "    incremental: true\n",
        "    transition: slide\n",
        "    background-transition: fade\n",
        "    transition-speed: slow\n",
        "    code-copy: true\n",
        "    code-line-numbers: true\n",
        "    smaller: false\n",
        "    scrollable: true\n",
        "    slide-number: c\n",
        "    preview-links: auto\n",
        "    chalkboard:\n",
        "      buttons: false\n",
        "    footer: Jan Kirenz\n",
        "---"
      ],
      "id": "53f0532f"
    },
    {
      "cell_type": "markdown",
      "metadata": {},
      "source": [
        "# Setup \n"
      ],
      "id": "c589a45d"
    },
    {
      "cell_type": "code",
      "metadata": {},
      "source": [
        "import numpy as np\n",
        "import pandas as pd\n",
        "from pandas.api.types import CategoricalDtype\n"
      ],
      "id": "ba857d51",
      "execution_count": null,
      "outputs": []
    },
    {
      "cell_type": "markdown",
      "metadata": {},
      "source": [
        "# Daten\n",
        "\n",
        "## Daten importieren\n"
      ],
      "id": "35f83e36"
    },
    {
      "cell_type": "code",
      "metadata": {
        "output-location": "fragment"
      },
      "source": [
        "PATH = \"../data/\"\n",
        "DATA = \"raw_mr_ss24.csv\"\n",
        "\n",
        "df = pd.read_csv(PATH + DATA)"
      ],
      "id": "b59afc87",
      "execution_count": null,
      "outputs": []
    },
    {
      "cell_type": "markdown",
      "metadata": {},
      "source": [
        "## DataFrame anzeigen\n"
      ],
      "id": "d535f75c"
    },
    {
      "cell_type": "code",
      "metadata": {
        "output-location": "fragment"
      },
      "source": [
        "df"
      ],
      "id": "0bf9da4c",
      "execution_count": null,
      "outputs": []
    },
    {
      "cell_type": "markdown",
      "metadata": {},
      "source": [
        "## Datentypen anzeigen\n"
      ],
      "id": "5fcd9c90"
    },
    {
      "cell_type": "code",
      "metadata": {
        "output-location": "fragment"
      },
      "source": [
        "df.dtypes"
      ],
      "id": "21fbf642",
      "execution_count": null,
      "outputs": []
    },
    {
      "cell_type": "markdown",
      "metadata": {},
      "source": [
        "## Info\n"
      ],
      "id": "1510ce94"
    },
    {
      "cell_type": "code",
      "metadata": {
        "output-location": "fragment"
      },
      "source": [
        "df.info()"
      ],
      "id": "75263177",
      "execution_count": null,
      "outputs": []
    },
    {
      "cell_type": "markdown",
      "metadata": {},
      "source": [
        "# Daten anpassen\n",
        "\n",
        "## Spaltennamen\n"
      ],
      "id": "ce2b3edd"
    },
    {
      "cell_type": "code",
      "metadata": {
        "output-location": "fragment"
      },
      "source": [
        "# Spaltennamen umbenennen\n",
        "df = df.rename(columns={\n",
        "    \"Zeitstempel\": \"zeit\",\n",
        "    \"Ich bin sportlich\": \"sport\",\n",
        "    \"Ich bin fleißig.\": \"fleissig\",\n",
        "    \"Von Rückschlägen lasse ich mich nicht entmutigen.\": \"entmutigen\",\n",
        "    \"Meine Fähigkeiten und Talente sind vorgegeben und ich kann daran nicht viel ändern.\": 'talente',\n",
        "    \"1990 lebten 58 % der Weltbevölkerung in Ländern mit niedrigem Einkommen. Wie hoch ist der Anteil heute? Geben Sie eine Zahl ein (z. B. 9, 37 oder 61)\": \"einkommen\",\n",
        "    \"Wie viel der weltweit verbrauchten Energie stammt aus Erdgas, Kohle und Öl?\": \"energie\",\n",
        "    \"Welcher Anteil der Weltbevölkerung lebt in Megacitys (Städte mit mindestens 10 Millionen Einwohnern)?\": \"megacity\",\n",
        "    \"Wie viele Geleebohnen befinden sich in diesem sechseckigen Glas?\": \"geleebohnen\",\n",
        "    \"Wie viele Minuten verbringen Sie an einem typischen Tag in sozialen Medien (Facebook, Instagram, Snapchat, etc.)?\": \"soziale_medien\",\n",
        "    \"Wie viele Minuten investieren Sie ca. pro Tag in Ihr Studium (abgesehen von Lehrveranstaltungen)?\": \"studium\",\n",
        "    \"Lesen Sie zur Zeit ein Buch?\": \"buch\",\n",
        "    \"Wie alt sind Sie?\": \"alter\",\n",
        "    \"Sie sind ...\": \"geschlecht\"\n",
        "}, errors=\"raise\")"
      ],
      "id": "81586ee2",
      "execution_count": null,
      "outputs": []
    },
    {
      "cell_type": "markdown",
      "metadata": {},
      "source": [
        "## Info\n"
      ],
      "id": "d892dfe8"
    },
    {
      "cell_type": "code",
      "metadata": {
        "output-location": "fragment"
      },
      "source": [
        "df.info()"
      ],
      "id": "fc3ce89a",
      "execution_count": null,
      "outputs": []
    },
    {
      "cell_type": "markdown",
      "metadata": {},
      "source": [
        "# Nominale Variablen\n",
        "\n",
        "## Liste erstellen \n"
      ],
      "id": "2b08eb9d"
    },
    {
      "cell_type": "code",
      "metadata": {
        "output-location": "fragment"
      },
      "source": [
        "# Liste mit nominalen Variablen erstellen\n",
        "list_nominal = [\"buch\", \"geschlecht\"]"
      ],
      "id": "b6c2c29c",
      "execution_count": null,
      "outputs": []
    },
    {
      "cell_type": "markdown",
      "metadata": {},
      "source": [
        "## Variablen anpassen\n"
      ],
      "id": "05692828"
    },
    {
      "cell_type": "code",
      "metadata": {
        "output-location": "fragment"
      },
      "source": [
        "# Nominale Variablen als kategorial formatieren (category)\n",
        "for i in list_nominal:\n",
        "    df[i] = df[i].astype(\"category\")\n",
        "\n",
        "df[list_nominal].info()"
      ],
      "id": "80e128be",
      "execution_count": null,
      "outputs": []
    },
    {
      "cell_type": "markdown",
      "metadata": {},
      "source": [
        "## Variablen anzeigen\n"
      ],
      "id": "40a738a5"
    },
    {
      "cell_type": "code",
      "metadata": {
        "output-location": "fragment"
      },
      "source": [
        "df[list_nominal].head()"
      ],
      "id": "c46da402",
      "execution_count": null,
      "outputs": []
    },
    {
      "cell_type": "markdown",
      "metadata": {},
      "source": [
        "- Beide nominalen Variablen enthalten Text in den Zeilen (mit jeweils zwei möglichen Ausprägungen). \n",
        "\n",
        "\n",
        "- Dies kann bei späteren Analysen zu Problemen führen, weshalb wir zusätzlich so genannte \"Dummy-Variablen\" erzeugen, die nur die Werte 1 und 0 enthalten. \n",
        "\n",
        "\n",
        "## Dummy Variablen erstellen\n"
      ],
      "id": "d9c367a9"
    },
    {
      "cell_type": "code",
      "metadata": {
        "output-location": "fragment"
      },
      "source": [
        "dummy_nominal = pd.get_dummies(\n",
        "    df[list_nominal],  prefix_sep='__').astype('category')\n",
        "\n",
        "dummy_nominal"
      ],
      "id": "f033d6bb",
      "execution_count": null,
      "outputs": []
    },
    {
      "cell_type": "markdown",
      "metadata": {},
      "source": [
        "## Dummy Variablen zu Daten hinzufügen\n"
      ],
      "id": "b84b4629"
    },
    {
      "cell_type": "code",
      "metadata": {
        "output-location": "fragment"
      },
      "source": [
        "# Dummy-Variablen hinzufügen\n",
        "df = df.join(dummy_nominal)\n",
        "\n",
        "df.head()"
      ],
      "id": "3530226e",
      "execution_count": null,
      "outputs": []
    },
    {
      "cell_type": "markdown",
      "metadata": {},
      "source": [
        "## Liste um Dummy Variablen ergänzen\n"
      ],
      "id": "61affa24"
    },
    {
      "cell_type": "code",
      "metadata": {},
      "source": [
        "# Liste um die neuen Variablen erweitern\n",
        "dummy_nominal_name = dummy_nominal.columns.tolist()\n",
        "\n",
        "list_nominal.extend(dummy_nominal_name)"
      ],
      "id": "a978a509",
      "execution_count": null,
      "outputs": []
    },
    {
      "cell_type": "markdown",
      "metadata": {},
      "source": [
        ". . .\n"
      ],
      "id": "a8998a7f"
    },
    {
      "cell_type": "code",
      "metadata": {
        "output-location": "fragment"
      },
      "source": [
        "list_nominal"
      ],
      "id": "872bfedc",
      "execution_count": null,
      "outputs": []
    },
    {
      "cell_type": "markdown",
      "metadata": {},
      "source": [
        "# Likert-Skala, Ordinal und Quasi-Metrisch\n",
        "\n",
        "## Variablen {.smaller}\n",
        "\n",
        "- Die Variablen `sport`,`fleissig`, `talente` und `entmutigen` wurden mit Hilfe einer so genannten [Likert-Skala](https://de.wikipedia.org/wiki/Likert-Skala) erhoben. \n",
        "\n",
        "- Die Antwortmöglichkeiten reichen bei der Likertskala typischerweise von „trifft überhaupt nicht zu“ bis \"trifft völlig zu“\n",
        "\n",
        "- Eine gerade Zahl der Antwortmöglichkeiten ist ebenso gebräuchlich wie eine ungerade Anzahl. \n",
        "\n",
        "\n",
        "## Antwortmöglichkeiten  {.smaller}\n",
        "\n",
        "- Es ist jedoch sinnvoll, in einem Fragebogen nur eine der beiden Varianten zu verwenden. \n",
        "\n",
        "- Zudem sollte die Reihenfolge der Antwortmöglichkeiten immer identisch sein.\n",
        "\n",
        "- Eine **ungerade Anzahl** wird verwendet, wenn eine mittlere Ausprägung (bspw. \"teils teils\") sinnvoll ist. \n",
        "\n",
        "- Eine **gerade Anzahl** zwingt dagegen zur Entscheidung zu einer Seite (tendenzielle Zustimmung oder Ablehnung).\n",
        "\n",
        "## Ordinal vs quasi-metrisch {.smaller}\n",
        "\n",
        "- Da wir nicht davon ausgehen können, dass eine befragte Person die Abstände der einzelnen Antwortmöglichkeiten als gleich weit entfernt wahrnimmt (äquidistant), handelt es sich streng genommen um ein **ordinales** Skalenniveau. \n",
        "\n",
        "- Um bei der späteren Auswertung die erhobenen Daten aber dennoch wie intervallskalierte Daten behandeln zu können, behandelt man die Variablen oftmals als \"**quais-metrisch**\" und unterstellt somit (zumindest annäherungsweise) äquidistante Abstände. \n",
        "\n",
        "## Ordinal vs quasimetrisch {.smaller}\n",
        "\n",
        "- Wir behandeln in Folgenden zwei unterschiedliche Optionen zum Umgang mit den Variablen:\n",
        "\n",
        "  - *Option 1*: Wir behandeln die Variablen als **ordinale** Variablen (wird im Anschluss gezeigt).\n",
        "\n",
        "  - *Option 2*: Wir behandeln die Variablen als \"**quasimetrische**\" Variablen - d.h. wie numerische Daten (diese Option wird in dem Abschnitt \"Quasi-metrische Variablen\" behandelt).\n",
        "\n",
        "\n",
        "# Skalierung der Variablen anpassen\n",
        "\n",
        "## Text vs. numerische Werte {.smaller}\n",
        "\n",
        "- In den Fragen wurde \"`sport`\", \"`fleissig`\", \"`talente`\" mit Hilfe von Text-Bezeichnungen wie \"trifft überhaupt nicht zu\" erhoben\n",
        "\n",
        "- \"`entmutigen`\" wurde mit Hilfe von *numerischen Werten* (1 bis 5) erfasst. \n",
        "\n",
        "- Da wir besser mit einheitlich skalierten Werten umgehen können, wird zunächst die Variable \"`entmutigen`\" in das gleiche Format überführt.\n",
        "\n",
        "## Variable im Original speichern\n",
        "\n",
        "- Da wir die Variable `entmutigen` nicht versehentlich durch Datentransformationen fehlerhaft verändern möchten, speichern wir sie zunächst nochmals in der originalen Version ab (als `entmutigen_orig`). \n"
      ],
      "id": "fa6b005b"
    },
    {
      "cell_type": "code",
      "metadata": {
        "output-location": "fragment"
      },
      "source": [
        "df['entmutigen_orig'] = df['entmutigen']"
      ],
      "id": "d65057d4",
      "execution_count": null,
      "outputs": []
    },
    {
      "cell_type": "markdown",
      "metadata": {},
      "source": [
        "## Liste für Anpassung erzeugen\n",
        "\n",
        "- Erzeugung der Listen für die Veränderung der Variable (in der korrekten Reihenfolge):\n"
      ],
      "id": "97743b33"
    },
    {
      "cell_type": "code",
      "metadata": {
        "output-location": "fragment"
      },
      "source": [
        "werte = [1, 2, 3, 4, 5]\n",
        "\n",
        "likert = [\"trifft überhaupt nicht zu\",\n",
        "          \"trifft eher nicht zu\",\n",
        "          \"teils teils\",\n",
        "          \"trifft eher zu\",\n",
        "          \"trifft völlig zu\"]"
      ],
      "id": "bd87d9a4",
      "execution_count": null,
      "outputs": []
    },
    {
      "cell_type": "markdown",
      "metadata": {},
      "source": [
        "## Variable anpassen\n"
      ],
      "id": "e74dd448"
    },
    {
      "cell_type": "code",
      "metadata": {
        "output-location": "fragment"
      },
      "source": [
        "df['entmutigen'].replace(werte, likert, inplace=True)\n",
        "\n",
        "df['entmutigen'].head()"
      ],
      "id": "f3912c30",
      "execution_count": null,
      "outputs": []
    },
    {
      "cell_type": "markdown",
      "metadata": {},
      "source": [
        ". . .\n"
      ],
      "id": "8901297d"
    },
    {
      "cell_type": "code",
      "metadata": {
        "output-location": "fragment"
      },
      "source": [
        "df['entmutigen_orig'].head()"
      ],
      "id": "d4ca6a50",
      "execution_count": null,
      "outputs": []
    },
    {
      "cell_type": "markdown",
      "metadata": {},
      "source": [
        "# Ordinale Variablen\n",
        "\n",
        "## Liste erstellen \n",
        "\n",
        "- Erstellung einer Liste:\n"
      ],
      "id": "7f58f6c9"
    },
    {
      "cell_type": "code",
      "metadata": {
        "output-location": "fragment"
      },
      "source": [
        "list_ordinal = [\"sport\", \"fleissig\", \"talente\", \"entmutigen\"]"
      ],
      "id": "4d80bdd9",
      "execution_count": null,
      "outputs": []
    },
    {
      "cell_type": "markdown",
      "metadata": {},
      "source": [
        "## Verwendung von pandas CategoricalDtype\n"
      ],
      "id": "381191e9"
    },
    {
      "cell_type": "code",
      "metadata": {
        "output-location": "fragment"
      },
      "source": [
        "cat_type = CategoricalDtype(categories=likert, ordered=True)\n",
        "\n",
        "cat_type"
      ],
      "id": "4e2a8336",
      "execution_count": null,
      "outputs": []
    },
    {
      "cell_type": "markdown",
      "metadata": {},
      "source": [
        "## Ordinale Variablen anpassen\n"
      ],
      "id": "ad4c566f"
    },
    {
      "cell_type": "code",
      "metadata": {},
      "source": [
        "df[list_ordinal] = df[list_ordinal].astype(cat_type)"
      ],
      "id": "0f5f2cb3",
      "execution_count": null,
      "outputs": []
    },
    {
      "cell_type": "markdown",
      "metadata": {},
      "source": [
        ". . .\n"
      ],
      "id": "5c3d3032"
    },
    {
      "cell_type": "code",
      "metadata": {
        "output-location": "fragment"
      },
      "source": [
        "df[\"sport\"]"
      ],
      "id": "fbb5c9b3",
      "execution_count": null,
      "outputs": []
    },
    {
      "cell_type": "markdown",
      "metadata": {},
      "source": [
        ". . .\n"
      ],
      "id": "006de23f"
    },
    {
      "cell_type": "code",
      "metadata": {
        "output-location": "fragment"
      },
      "source": [
        "# Anzeige der Ausprägungen\n",
        "df['sport'].cat.categories"
      ],
      "id": "964ec5fc",
      "execution_count": null,
      "outputs": []
    },
    {
      "cell_type": "markdown",
      "metadata": {},
      "source": [
        "## Liste der kategorialen Variablen erstellen\n"
      ],
      "id": "99a4c3f7"
    },
    {
      "cell_type": "code",
      "metadata": {
        "output-location": "fragment"
      },
      "source": [
        "list_cat = list_nominal + list_ordinal"
      ],
      "id": "26c5fac4",
      "execution_count": null,
      "outputs": []
    },
    {
      "cell_type": "markdown",
      "metadata": {},
      "source": [
        "# Numerische Variablen\n",
        "\n",
        "## Übersicht \n",
        "\n",
        "- Wir behandeln zunächst die \"eindeutig\" numerischen Variablen (d.h. wir ignorieren die quasi-metrischen). diese wären:\n",
        "\n",
        "- einkommen\n",
        "- energie\n",
        "- megacity\n",
        "- geleebohnen\n",
        "- soziale_medien\n",
        "- studium\n",
        "- alter\n",
        "\n",
        "## Liste erstellen\n"
      ],
      "id": "849bcde8"
    },
    {
      "cell_type": "code",
      "metadata": {
        "output-location": "fragment"
      },
      "source": [
        "list_num = ['einkommen', 'energie', 'megacity', 'geleebohnen',\n",
        "            'soziale_medien', 'studium', 'alter']\n",
        "\n",
        "df[list_num].info()"
      ],
      "id": "1ef59330",
      "execution_count": null,
      "outputs": []
    },
    {
      "cell_type": "markdown",
      "metadata": {},
      "source": [
        "## Erkenntnisse\n",
        "\n",
        "- Wir können mit `df.info()` erkennen, dass abgesehen von `energie` bereits alle Variablen korrrekt als \"int64\" vorliegen\n",
        "\n",
        "- Siehe zur Bedeutung von `Int64` diesen [Stackoverflow-Beitrag](https://stackoverflow.com/questions/9696660/what-is-the-difference-between-int-int16-int32-and-int64)) \n",
        "\n",
        "\n",
        "## Untersuchung von Problemen\n"
      ],
      "id": "4148af55"
    },
    {
      "cell_type": "code",
      "metadata": {
        "output-location": "fragment"
      },
      "source": [
        "df['energie'].head()"
      ],
      "id": "89eefa02",
      "execution_count": null,
      "outputs": []
    },
    {
      "cell_type": "markdown",
      "metadata": {},
      "source": [
        "- In den Antwortmöglichkeiten der Variable waren neben numerischen Werten auch Buchstaben und ein Sonderzeichen enthalen: \"ca.\" und \"%\". \n",
        "\n",
        "- Damit wir sinnvoll mit der Variable arbeiten können, müssen diese entfernt werden. \n",
        "\n",
        "## Variable im Original speichern {.smaller}\n",
        "\n",
        "- Da wir die Variable nicht versehentlich durch Datentransformationen korrumpieren möchten, speichern wir sie zunächst nochmals in der originalen Version ab (als `energie_orig`). \n",
        "\n",
        "- Um die numerischen Werte leichter extrahieren zu können, nutzen wir das Format \"String\".\n"
      ],
      "id": "547cccb5"
    },
    {
      "cell_type": "code",
      "metadata": {
        "output-location": "fragment"
      },
      "source": [
        "df['energie_orig'] = df['energie'].astype(\"string\")"
      ],
      "id": "6162aa28",
      "execution_count": null,
      "outputs": []
    },
    {
      "cell_type": "markdown",
      "metadata": {},
      "source": [
        "## Regular Expressions {.smaller}\n",
        "\n",
        "- Im nächsten Schritt nutzen wir einen [regulärer Ausdruck](https://www.w3schools.com/python/python_regex.asp) (englisch regular expression, Abkürzung RegExp oder Regex) um die Zahl aus dem String zu extrahieren. \n",
        "\n",
        "|Ausdruck|Bedeutung|Beschreibung|\n",
        "|:----|:----|:----|\n",
        "|\\d|digit|eine Ziffer, also [0-9] (und evtl. auch weitere Zahlzeichen in Unicode, z. B. bengalische Ziffern)|\n",
        "|\\D|no digit|ein Zeichen, das keine Ziffer ist, also [^\\d]|\n",
        "|\\w|word character|ein Buchstabe, eine Ziffer oder der Unterstrich, also [a-zA-Z_0-9] (und evtl. auch nicht-lateinische Buchstaben, z. B. Umlaute)|\n",
        "|\\W|no word character|ein Zeichen, das weder Buchstabe noch Zahl noch Unterstrich ist, also [^\\w]|\n",
        "|\\s|whitespace|meist zumindest das Leerzeichen und die Klasse der Steuerzeichen \\f, \\n, \\r, \\t und \\v|\n",
        "|\\S|no whitespace|ein Zeichen, das kein Whitespace ist, also [^\\s]|\n",
        "\n",
        "## Anpassung der Variable\n",
        "\n",
        "- Falls mehr als ein einzelnes Zeichen extrahiert werden soll, muss am Ende des Ausdrucks ein `+` hinzugefügt werden.\n",
        "\n",
        "- Wir nutzen regular expressions und überschreiben die alte Variable `energie` mit dem neuen Eintrag. \n",
        "\n",
        "- Zudem speichern wir sie als integer.\n",
        "\n",
        "## Anpassung der Variable\n",
        "\n",
        ". . .\n"
      ],
      "id": "a6473c2f"
    },
    {
      "cell_type": "code",
      "metadata": {},
      "source": [
        "df['energie'] = df['energie_orig'].str.extract('(\\d+)').astype(int)"
      ],
      "id": "49561672",
      "execution_count": null,
      "outputs": []
    },
    {
      "cell_type": "markdown",
      "metadata": {},
      "source": [
        ". . .\n"
      ],
      "id": "e8c6f919"
    },
    {
      "cell_type": "code",
      "metadata": {
        "output-location": "fragment"
      },
      "source": [
        "df[['energie_orig', 'energie']].head()"
      ],
      "id": "b23959b7",
      "execution_count": null,
      "outputs": []
    },
    {
      "cell_type": "markdown",
      "metadata": {},
      "source": [
        "# Quasi-metrische Variablen\n",
        "\n",
        "## Kontext\n",
        "\n",
        "- Variablen `sport`,`fleissig`, und `talente` wurden mit Hilfe einer  [Likert-Skala](https://de.wikipedia.org/wiki/Likert-Skala) erhoben und könnten somit auch als \"quasi-metrisch\" behandelt werden (anstelle von ordinal).\n",
        "\n",
        "- Dabei muss jedoch beachtet werden, dass bspw. der Mittelwert aufgrund der Art der Messung (insbesondere wenn eine neutrale mittlere Ausprägung verwendet wird) an Aussagekraft verlieren.\n",
        "\n",
        "\n",
        "## Originaldaten sichern {.smaller}\n",
        "\n",
        "- Damit wir die Originaldaten nicht \"verlieren\", erzeugen wir neue Variablen. \n",
        "\n",
        "- Dafür kopieren wir die Daten und fügen diesen die Endung \"qm\" (für quasimetrisch) hinzu. \n",
        "\n",
        ". . .\n"
      ],
      "id": "df76ac70"
    },
    {
      "cell_type": "code",
      "metadata": {},
      "source": [
        "for i in list_ordinal:\n",
        "    df[i + \"_qm\"] = df[i]"
      ],
      "id": "c58addc0",
      "execution_count": null,
      "outputs": []
    },
    {
      "cell_type": "markdown",
      "metadata": {},
      "source": [
        "## Liste erzeugen\n"
      ],
      "id": "cf74f4ef"
    },
    {
      "cell_type": "code",
      "metadata": {
        "output-location": "fragment"
      },
      "source": [
        "# Erstellung der Liste mit Hilfe von filter und regular expressions\n",
        "list_qm = df.filter(regex='_qm').columns.to_list()\n",
        "list_qm"
      ],
      "id": "70e067b7",
      "execution_count": null,
      "outputs": []
    },
    {
      "cell_type": "markdown",
      "metadata": {},
      "source": [
        "## Info\n"
      ],
      "id": "74256cb9"
    },
    {
      "cell_type": "code",
      "metadata": {
        "output-location": "fragment"
      },
      "source": [
        "df[list_qm].info()"
      ],
      "id": "3aed41e4",
      "execution_count": null,
      "outputs": []
    },
    {
      "cell_type": "markdown",
      "metadata": {},
      "source": [
        "## Skalierung anpassen\n",
        "\n",
        "- Wir nutzen nun ein ähnliches Vorgehen wie bei der Anpassung der Variable \"entmutigen\"\n",
        "\n",
        ". . .\n"
      ],
      "id": "aa8b4f5b"
    },
    {
      "cell_type": "code",
      "metadata": {
        "output-location": "fragment"
      },
      "source": [
        "for i in list_qm:\n",
        "    df[i].replace(likert, werte, inplace=True)\n",
        "    df[i] = df[i].astype(\"int\")"
      ],
      "id": "debb609e",
      "execution_count": null,
      "outputs": []
    },
    {
      "cell_type": "markdown",
      "metadata": {},
      "source": [
        "## Daten anzeigen\n"
      ],
      "id": "78a571cd"
    },
    {
      "cell_type": "code",
      "metadata": {
        "output-location": "fragment"
      },
      "source": [
        "df[list_qm].head()"
      ],
      "id": "31a86684",
      "execution_count": null,
      "outputs": []
    },
    {
      "cell_type": "markdown",
      "metadata": {},
      "source": [
        ". . .\n"
      ],
      "id": "8a3145d9"
    },
    {
      "cell_type": "code",
      "metadata": {
        "output-location": "fragment"
      },
      "source": [
        "df[list_qm].info()"
      ],
      "id": "f5806a35",
      "execution_count": null,
      "outputs": []
    },
    {
      "cell_type": "markdown",
      "metadata": {},
      "source": [
        "## Liste für metrische Variablen\n"
      ],
      "id": "bd5663d2"
    },
    {
      "cell_type": "code",
      "metadata": {
        "output-location": "fragment"
      },
      "source": [
        "list_metric = list_num + list_qm"
      ],
      "id": "9a366c80",
      "execution_count": null,
      "outputs": []
    },
    {
      "cell_type": "markdown",
      "metadata": {},
      "source": [
        "# Daten speichern\n",
        "\n",
        "## Daten als CSV speichern\n",
        "\n",
        "Speichern als CSV:\n"
      ],
      "id": "c5a69537"
    },
    {
      "cell_type": "code",
      "metadata": {
        "output-location": "fragment"
      },
      "source": [
        "PATH = \"../data/\"\n",
        "FILE = \"clean_data\"\n",
        "FORMAT_CSV = \".csv\""
      ],
      "id": "42c324ec",
      "execution_count": null,
      "outputs": []
    },
    {
      "cell_type": "code",
      "metadata": {
        "output-location": "fragment"
      },
      "source": [
        "df.to_csv(PATH + FILE + FORMAT_CSV, index=False)"
      ],
      "id": "a02dccc7",
      "execution_count": null,
      "outputs": []
    },
    {
      "cell_type": "markdown",
      "metadata": {},
      "source": [
        "## Daten als Excel speichern\n",
        "\n",
        "Speichern als Excel-Datei:\n"
      ],
      "id": "88f0df4f"
    },
    {
      "cell_type": "code",
      "metadata": {
        "output-location": "fragment"
      },
      "source": [
        "FORMAT_EXCEL = \".xlsx\"\n",
        "\n",
        "df.to_excel(PATH + FILE + FORMAT_EXCEL, index=False)"
      ],
      "id": "1f5de2cf",
      "execution_count": null,
      "outputs": []
    }
  ],
  "metadata": {
    "kernelspec": {
      "name": "python3",
      "language": "python",
      "display_name": "Python 3 (ipykernel)"
    }
  },
  "nbformat": 4,
  "nbformat_minor": 5
}