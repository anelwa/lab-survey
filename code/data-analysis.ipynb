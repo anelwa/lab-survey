{
    "cells": [
        {
            "cell_type": "markdown",
            "metadata": {},
            "source": [
                "# Setup "
            ]
        },
        {
            "cell_type": "code",
            "metadata": {},
            "source": [
                "import numpy as np\n",
                "import pandas as pd"
            ],
            "execution_count": null,
            "outputs": []
        },
        {
            "cell_type": "markdown",
            "metadata": {},
            "source": [
                "# Daten\n",
                "\n",
                "## Daten importieren"
            ]
        },
        {
            "cell_type": "code",
            "metadata": {
                "output-location": "fragment"
            },
            "source": [
                "PATH = \"../data/\"\n",
                "DATA = \"clean_ws2324.csv\"\n",
                "\n",
                "df = pd.read_csv(PATH + DATA)\n",
                "\n",
                "df.head()"
            ],
            "execution_count": null,
            "outputs": []
        },
        {
            "cell_type": "markdown",
            "metadata": {},
            "source": [
                "## Variablen-Liste für Bereinigung "
            ]
        },
        {
            "cell_type": "code",
            "metadata": {
                "output-location": "fragment"
            },
            "source": [
                "# Liste mit den noch enthaltenen Original-Spalten erstellen\n",
                "list_drop = df.filter(like='_orig', axis=1).columns.tolist()\n",
                "\n",
                "list_drop"
            ],
            "execution_count": null,
            "outputs": []
        },
        {
            "cell_type": "markdown",
            "metadata": {},
            "source": [
                ""
            ]
        },
        {
            "cell_type": "code",
            "metadata": {
                "output-location": "fragment"
            },
            "source": [
                "list_drop.append('zeit')\n",
                "\n",
                "list_drop"
            ],
            "execution_count": null,
            "outputs": []
        },
        {
            "cell_type": "markdown",
            "metadata": {},
            "source": [
                "## Variablen löschen"
            ]
        },
        {
            "cell_type": "code",
            "metadata": {
                "output-location": "fragment"
            },
            "source": [
                "# Wir entfernen die Original-Spalten und die Variable zeit\n",
                "df = df.drop(columns=list_drop)\n",
                "\n",
                "df.head()"
            ],
            "execution_count": null,
            "outputs": []
        },
        {
            "cell_type": "markdown",
            "metadata": {},
            "source": [
                "## Liste mit Dummy-Variablen"
            ]
        },
        {
            "cell_type": "code",
            "metadata": {
                "output-location": "fragment"
            },
            "source": [
                "# Liste mit Dummy-Variablen erstellen\n",
                "list_dummy = df.filter(like='__', axis=1).columns\n",
                "\n",
                "list_dummy"
            ],
            "execution_count": null,
            "outputs": []
        },
        {
            "cell_type": "markdown",
            "metadata": {},
            "source": [
                "## Dummy-Variablen anpassen"
            ]
        },
        {
            "cell_type": "code",
            "metadata": {
                "output-location": "fragment"
            },
            "source": [
                "# Dummy-Variablen als Objekt-Daten speichern\n",
                "for i in list_dummy:\n",
                "    df[i] = df[i].astype(\"object\")"
            ],
            "execution_count": null,
            "outputs": []
        },
        {
            "cell_type": "markdown",
            "metadata": {},
            "source": [
                "## Liste mit numerischen Variablen "
            ]
        },
        {
            "cell_type": "code",
            "metadata": {
                "output-location": "fragment"
            },
            "source": [
                "# Liste für metrische Daten\n",
                "list_metric = df.select_dtypes(include=[np.number]).columns.tolist()\n",
                "\n",
                "list_metric"
            ],
            "execution_count": null,
            "outputs": []
        },
        {
            "cell_type": "markdown",
            "metadata": {},
            "source": [
                "## Liste mit kategorialen Variablen "
            ]
        },
        {
            "cell_type": "code",
            "metadata": {
                "output-location": "fragment"
            },
            "source": [
                "# Liste für kategoriale Daten\n",
                "list_cat = df.select_dtypes(include=['object']).columns.tolist()\n",
                "\n",
                "list_cat"
            ],
            "execution_count": null,
            "outputs": []
        },
        {
            "cell_type": "markdown",
            "metadata": {},
            "source": [
                "## Kategoriale Variablen anpassen"
            ]
        },
        {
            "cell_type": "code",
            "metadata": {
                "output-location": "fragment"
            },
            "source": [
                "# Kategoriale Daten formatieren\n",
                "for i in list_cat:\n",
                "    df[i] = df[i].astype(\"category\")\n",
                "\n",
                "df.info()"
            ],
            "execution_count": null,
            "outputs": []
        },
        {
            "cell_type": "markdown",
            "metadata": {},
            "source": [
                "## Datenüberblick"
            ]
        },
        {
            "cell_type": "code",
            "metadata": {
                "output-location": "fragment"
            },
            "source": [
                "df"
            ],
            "execution_count": null,
            "outputs": []
        },
        {
            "cell_type": "markdown",
            "metadata": {},
            "source": [
                ""
            ]
        },
        {
            "cell_type": "code",
            "metadata": {
                "output-location": "fragment"
            },
            "source": [
                "df.info()"
            ],
            "execution_count": null,
            "outputs": []
        },
        {
            "cell_type": "markdown",
            "metadata": {},
            "source": [
                "# Deskriptive Analyse\n",
                "\n",
                "## Statistische Daten für kategoriale Variablen"
            ]
        },
        {
            "cell_type": "code",
            "metadata": {
                "output-location": "fragment"
            },
            "source": [
                "df[list_cat].describe().T"
            ],
            "execution_count": null,
            "outputs": []
        },
        {
            "cell_type": "markdown",
            "metadata": {},
            "source": [
                "## Anzahl der Ausprägungen"
            ]
        },
        {
            "cell_type": "code",
            "metadata": {
                "output-location": "fragment"
            },
            "source": [
                "for i in list_cat:\n",
                "    print(\"-\"*30)\n",
                "    print(i, \"\\n\", df[i].value_counts())"
            ],
            "execution_count": null,
            "outputs": []
        },
        {
            "cell_type": "code",
            "metadata": {
                "output-location": "fragment"
            },
            "source": [
                "df[list_metric].describe().round(2).T"
            ],
            "execution_count": null,
            "outputs": []
        }
    ],
    "metadata": {
        "kernelspec": {
            "name": "python3",
            "language": "python",
            "display_name": "Python 3 (ipykernel)"
        }
    },
    "nbformat": 4,
    "nbformat_minor": 4
}