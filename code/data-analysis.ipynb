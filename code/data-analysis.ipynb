{
    "cells": [
        {
            "cell_type": "markdown",
            "metadata": {},
            "source": [
                "# Setup "
            ]
        },
        {
            "cell_type": "code",
            "execution_count": null,
            "metadata": {},
            "outputs": [],
            "source": [
                "import numpy as np\n",
                "import pandas as pd"
            ]
        },
        {
            "cell_type": "markdown",
            "metadata": {},
            "source": [
                "# Daten\n",
                "\n",
                "## Daten importieren"
            ]
        },
        {
            "cell_type": "code",
            "execution_count": null,
            "metadata": {
                "output-location": "fragment"
            },
            "outputs": [],
            "source": [
                "PATH = \"../data/\"\n",
                "DATA = \"raw_mr_ss24.csv\"\n",
                "\n",
                "df = pd.read_csv(PATH + DATA)\n",
                "\n",
                "df.head()"
            ]
        },
        {
            "cell_type": "markdown",
            "metadata": {},
            "source": [
                "## Variablen-Liste für Bereinigung "
            ]
        },
        {
            "cell_type": "code",
            "execution_count": null,
            "metadata": {
                "output-location": "fragment"
            },
            "outputs": [],
            "source": [
                "# Liste mit den noch enthaltenen Original-Spalten erstellen\n",
                "list_drop = df.filter(like='_orig', axis=1).columns.tolist()\n",
                "\n",
                "list_drop"
            ]
        },
        {
            "cell_type": "markdown",
            "metadata": {},
            "source": []
        },
        {
            "cell_type": "code",
            "execution_count": null,
            "metadata": {
                "output-location": "fragment"
            },
            "outputs": [],
            "source": [
                "list_drop.append('zeit')\n",
                "\n",
                "list_drop"
            ]
        },
        {
            "cell_type": "markdown",
            "metadata": {},
            "source": [
                "## Variablen löschen"
            ]
        },
        {
            "cell_type": "code",
            "execution_count": null,
            "metadata": {
                "output-location": "fragment"
            },
            "outputs": [],
            "source": [
                "# Wir entfernen die Original-Spalten und die Variable zeit\n",
                "df = df.drop(columns=list_drop)\n",
                "\n",
                "df.head()"
            ]
        },
        {
            "cell_type": "markdown",
            "metadata": {},
            "source": [
                "## Liste mit Dummy-Variablen"
            ]
        },
        {
            "cell_type": "code",
            "execution_count": null,
            "metadata": {
                "output-location": "fragment"
            },
            "outputs": [],
            "source": [
                "# Liste mit Dummy-Variablen erstellen\n",
                "list_dummy = df.filter(like='__', axis=1).columns\n",
                "\n",
                "list_dummy"
            ]
        },
        {
            "cell_type": "markdown",
            "metadata": {},
            "source": [
                "## Dummy-Variablen anpassen"
            ]
        },
        {
            "cell_type": "code",
            "execution_count": null,
            "metadata": {
                "output-location": "fragment"
            },
            "outputs": [],
            "source": [
                "# Dummy-Variablen als Objekt-Daten speichern\n",
                "for i in list_dummy:\n",
                "    df[i] = df[i].astype(\"object\")"
            ]
        },
        {
            "cell_type": "markdown",
            "metadata": {},
            "source": [
                "## Liste mit numerischen Variablen "
            ]
        },
        {
            "cell_type": "code",
            "execution_count": null,
            "metadata": {
                "output-location": "fragment"
            },
            "outputs": [],
            "source": [
                "# Liste für metrische Daten\n",
                "list_metric = df.select_dtypes(include=[np.number]).columns.tolist()\n",
                "\n",
                "list_metric"
            ]
        },
        {
            "cell_type": "markdown",
            "metadata": {},
            "source": [
                "## Liste mit kategorialen Variablen "
            ]
        },
        {
            "cell_type": "code",
            "execution_count": null,
            "metadata": {
                "output-location": "fragment"
            },
            "outputs": [],
            "source": [
                "# Liste für kategoriale Daten\n",
                "list_cat = df.select_dtypes(include=['object']).columns.tolist()\n",
                "\n",
                "list_cat"
            ]
        },
        {
            "cell_type": "markdown",
            "metadata": {},
            "source": [
                "## Kategoriale Variablen anpassen"
            ]
        },
        {
            "cell_type": "code",
            "execution_count": null,
            "metadata": {
                "output-location": "fragment"
            },
            "outputs": [],
            "source": [
                "# Kategoriale Daten formatieren\n",
                "for i in list_cat:\n",
                "    df[i] = df[i].astype(\"category\")\n",
                "\n",
                "df.info()"
            ]
        },
        {
            "cell_type": "markdown",
            "metadata": {},
            "source": [
                "## Datenüberblick"
            ]
        },
        {
            "cell_type": "code",
            "execution_count": null,
            "metadata": {
                "output-location": "fragment"
            },
            "outputs": [],
            "source": [
                "df"
            ]
        },
        {
            "cell_type": "markdown",
            "metadata": {},
            "source": []
        },
        {
            "cell_type": "code",
            "execution_count": null,
            "metadata": {
                "output-location": "fragment"
            },
            "outputs": [],
            "source": [
                "df.info()"
            ]
        },
        {
            "cell_type": "markdown",
            "metadata": {},
            "source": [
                "# Deskriptive Analyse\n",
                "\n",
                "## Statistische Daten für kategoriale Variablen"
            ]
        },
        {
            "cell_type": "code",
            "execution_count": null,
            "metadata": {
                "output-location": "fragment"
            },
            "outputs": [],
            "source": [
                "df[list_cat].describe().T"
            ]
        },
        {
            "cell_type": "markdown",
            "metadata": {},
            "source": [
                "## Anzahl der Ausprägungen"
            ]
        },
        {
            "cell_type": "code",
            "execution_count": null,
            "metadata": {
                "output-location": "fragment"
            },
            "outputs": [],
            "source": [
                "for i in list_cat:\n",
                "    print(\"-\"*30)\n",
                "    print(i, \"\\n\", df[i].value_counts())"
            ]
        },
        {
            "cell_type": "code",
            "execution_count": null,
            "metadata": {
                "output-location": "fragment"
            },
            "outputs": [],
            "source": [
                "df[list_metric].describe().round(2).T"
            ]
        }
    ],
    "metadata": {
        "kernelspec": {
            "display_name": "Python 3 (ipykernel)",
            "language": "python",
            "name": "python3"
        }
    },
    "nbformat": 4,
    "nbformat_minor": 4
}
