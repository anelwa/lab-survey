{
    "cells": [
        {
            "cell_type": "markdown",
            "metadata": {},
            "source": [
                "# Setup "
            ]
        },
        {
            "cell_type": "code",
            "execution_count": null,
            "metadata": {},
            "outputs": [],
            "source": [
                "import numpy as np\n",
                "import pandas as pd\n",
                "from pandas.api.types import CategoricalDtype\n"
            ]
        },
        {
            "cell_type": "markdown",
            "metadata": {},
            "source": [
                "# Daten\n",
                "\n",
                "## Daten importieren"
            ]
        },
        {
            "cell_type": "code",
            "execution_count": null,
            "metadata": {
                "output-location": "fragment"
            },
            "outputs": [],
            "source": [
                "PATH = \"../data/\"\n",
                "DATA = \"raw_mr_ss24.csv\"\n",
                "\n",
                "df = pd.read_csv(PATH + DATA)"
            ]
        },
        {
            "cell_type": "markdown",
            "metadata": {},
            "source": [
                "## DataFrame anzeigen"
            ]
        },
        {
            "cell_type": "code",
            "execution_count": null,
            "metadata": {
                "output-location": "fragment"
            },
            "outputs": [],
            "source": [
                "df"
            ]
        },
        {
            "cell_type": "markdown",
            "metadata": {},
            "source": [
                "## Datentypen anzeigen\n"
            ]
        },
        {
            "cell_type": "code",
            "execution_count": null,
            "metadata": {
                "output-location": "fragment"
            },
            "outputs": [],
            "source": [
                "df.dtypes"
            ]
        },
        {
            "cell_type": "markdown",
            "metadata": {},
            "source": [
                "## Info"
            ]
        },
        {
            "cell_type": "code",
            "execution_count": null,
            "metadata": {
                "output-location": "fragment"
            },
            "outputs": [],
            "source": [
                "df.info()"
            ]
        },
        {
            "cell_type": "markdown",
            "metadata": {},
            "source": [
                "# Daten anpassen\n",
                "\n",
                "## Spaltennamen"
            ]
        },
        {
            "cell_type": "code",
            "execution_count": null,
            "metadata": {
                "output-location": "fragment"
            },
            "outputs": [],
            "source": [
                "# Spaltennamen umbenennen\n",
                "df = df.rename(columns={\n",
                "    \"Zeitstempel\": \"zeit\",\n",
                "    \"Ich bin sportlich\": \"sport\",\n",
                "    \"Ich bin fleißig.\": \"fleissig\",\n",
                "    \"Von Rückschlägen lasse ich mich nicht entmutigen.\": \"entmutigen\",\n",
                "    \"Meine Fähigkeiten und Talente sind vorgegeben und ich kann daran nicht viel ändern.\": 'talente',\n",
                "    \"1990 lebten 58 % der Weltbevölkerung in Ländern mit niedrigem Einkommen. Wie hoch ist der Anteil heute? Geben Sie eine Zahl ein (z. B. 9, 37 oder 61)\": \"einkommen\",\n",
                "    \"Wie viel der weltweit verbrauchten Energie stammt aus Erdgas, Kohle und Öl?\": \"energie\",\n",
                "    \"Welcher Anteil der Weltbevölkerung lebt in Megacitys (Städte mit mindestens 10 Millionen Einwohnern)?\": \"megacity\",\n",
                "    \"Wie viele Geleebohnen befinden sich in diesem sechseckigen Glas?\": \"geleebohnen\",\n",
                "    \"Wie viele Minuten verbringen Sie an einem typischen Tag in sozialen Medien (Facebook, Instagram, Snapchat, etc.)?\": \"soziale_medien\",\n",
                "    \"Wie viele Minuten investieren Sie ca. pro Tag in Ihr Studium (abgesehen von Lehrveranstaltungen)?\": \"studium\",\n",
                "    \"Lesen Sie zur Zeit ein Buch?\": \"buch\",\n",
                "    \"Wie alt sind Sie?\": \"alter\",\n",
                "    \"Sie sind ...\": \"geschlecht\"\n",
                "}, errors=\"raise\")"
            ]
        },
        {
            "cell_type": "markdown",
            "metadata": {},
            "source": [
                "## Info"
            ]
        },
        {
            "cell_type": "code",
            "execution_count": null,
            "metadata": {
                "output-location": "fragment"
            },
            "outputs": [],
            "source": [
                "df.info()"
            ]
        },
        {
            "cell_type": "markdown",
            "metadata": {},
            "source": [
                "# Nominale Variablen\n",
                "\n",
                "## Liste erstellen "
            ]
        },
        {
            "cell_type": "code",
            "execution_count": null,
            "metadata": {
                "output-location": "fragment"
            },
            "outputs": [],
            "source": [
                "# Liste mit nominalen Variablen erstellen\n",
                "list_nominal = [\"buch\", \"geschlecht\"]"
            ]
        },
        {
            "cell_type": "markdown",
            "metadata": {},
            "source": [
                "## Variablen anpassen\n"
            ]
        },
        {
            "cell_type": "code",
            "execution_count": null,
            "metadata": {
                "output-location": "fragment"
            },
            "outputs": [],
            "source": [
                "# Nominale Variablen als kategorial formatieren (category)\n",
                "for i in list_nominal:\n",
                "    df[i] = df[i].astype(\"category\")\n",
                "\n",
                "df[list_nominal].info()"
            ]
        },
        {
            "cell_type": "markdown",
            "metadata": {},
            "source": [
                "## Variablen anzeigen\n"
            ]
        },
        {
            "cell_type": "code",
            "execution_count": null,
            "metadata": {
                "output-location": "fragment"
            },
            "outputs": [],
            "source": [
                "df[list_nominal].head()"
            ]
        },
        {
            "cell_type": "markdown",
            "metadata": {},
            "source": [
                "- Beide nominalen Variablen enthalten Text in den Zeilen (mit jeweils zwei möglichen Ausprägungen). \n",
                "\n",
                "\n",
                "- Dies kann bei späteren Analysen zu Problemen führen, weshalb wir zusätzlich so genannte \"Dummy-Variablen\" erzeugen, die nur die Werte 1 und 0 enthalten. \n",
                "\n",
                "\n",
                "## Dummy Variablen erstellen"
            ]
        },
        {
            "cell_type": "code",
            "execution_count": null,
            "metadata": {
                "output-location": "fragment"
            },
            "outputs": [],
            "source": [
                "dummy_nominal = pd.get_dummies(\n",
                "    df[list_nominal],  prefix_sep='__').astype('category')\n",
                "\n",
                "dummy_nominal"
            ]
        },
        {
            "cell_type": "markdown",
            "metadata": {},
            "source": [
                "## Dummy Variablen zu Daten hinzufügen\n"
            ]
        },
        {
            "cell_type": "code",
            "execution_count": null,
            "metadata": {
                "output-location": "fragment"
            },
            "outputs": [],
            "source": [
                "# Dummy-Variablen hinzufügen\n",
                "df = df.join(dummy_nominal)\n",
                "\n",
                "df.head()"
            ]
        },
        {
            "cell_type": "markdown",
            "metadata": {},
            "source": [
                "## Liste um Dummy Variablen ergänzen\n"
            ]
        },
        {
            "cell_type": "code",
            "execution_count": null,
            "metadata": {},
            "outputs": [],
            "source": [
                "# Liste um die neuen Variablen erweitern\n",
                "dummy_nominal_name = dummy_nominal.columns.tolist()\n",
                "\n",
                "list_nominal.extend(dummy_nominal_name)"
            ]
        },
        {
            "cell_type": "markdown",
            "metadata": {},
            "source": []
        },
        {
            "cell_type": "code",
            "execution_count": null,
            "metadata": {
                "output-location": "fragment"
            },
            "outputs": [],
            "source": [
                "list_nominal"
            ]
        },
        {
            "cell_type": "markdown",
            "metadata": {},
            "source": [
                "# Likert-Skala, Ordinal und Quasi-Metrisch\n",
                "\n",
                "## Variablen {.smaller}\n",
                "\n",
                "- Die Variablen `sport`,`fleissig`, `talente` und `entmutigen` wurden mit Hilfe einer so genannten [Likert-Skala](https://de.wikipedia.org/wiki/Likert-Skala) erhoben. \n",
                "\n",
                "- Die Antwortmöglichkeiten reichen bei der Likertskala typischerweise von „trifft überhaupt nicht zu“ bis \"trifft völlig zu“\n",
                "\n",
                "- Eine gerade Zahl der Antwortmöglichkeiten ist ebenso gebräuchlich wie eine ungerade Anzahl. \n",
                "\n",
                "\n",
                "## Antwortmöglichkeiten  {.smaller}\n",
                "\n",
                "- Es ist jedoch sinnvoll, in einem Fragebogen nur eine der beiden Varianten zu verwenden. \n",
                "\n",
                "- Zudem sollte die Reihenfolge der Antwortmöglichkeiten immer identisch sein.\n",
                "\n",
                "- Eine **ungerade Anzahl** wird verwendet, wenn eine mittlere Ausprägung (bspw. \"teils teils\") sinnvoll ist. \n",
                "\n",
                "- Eine **gerade Anzahl** zwingt dagegen zur Entscheidung zu einer Seite (tendenzielle Zustimmung oder Ablehnung).\n",
                "\n",
                "## Ordinal vs quasi-metrisch {.smaller}\n",
                "\n",
                "- Da wir nicht davon ausgehen können, dass eine befragte Person die Abstände der einzelnen Antwortmöglichkeiten als gleich weit entfernt wahrnimmt (äquidistant), handelt es sich streng genommen um ein **ordinales** Skalenniveau. \n",
                "\n",
                "- Um bei der späteren Auswertung die erhobenen Daten aber dennoch wie intervallskalierte Daten behandeln zu können, behandelt man die Variablen oftmals als \"**quais-metrisch**\" und unterstellt somit (zumindest annäherungsweise) äquidistante Abstände. \n",
                "\n",
                "## Ordinal vs quasimetrisch {.smaller}\n",
                "\n",
                "- Wir behandeln in Folgenden zwei unterschiedliche Optionen zum Umgang mit den Variablen:\n",
                "\n",
                "  - *Option 1*: Wir behandeln die Variablen als **ordinale** Variablen (wird im Anschluss gezeigt).\n",
                "\n",
                "  - *Option 2*: Wir behandeln die Variablen als \"**quasimetrische**\" Variablen - d.h. wie numerische Daten (diese Option wird in dem Abschnitt \"Quasi-metrische Variablen\" behandelt).\n",
                "\n",
                "\n",
                "# Skalierung der Variablen anpassen\n",
                "\n",
                "## Text vs. numerische Werte {.smaller}\n",
                "\n",
                "- In den Fragen wurde \"`sport`\", \"`fleissig`\", \"`talente`\" mit Hilfe von Text-Bezeichnungen wie \"trifft überhaupt nicht zu\" erhoben\n",
                "\n",
                "- \"`entmutigen`\" wurde mit Hilfe von *numerischen Werten* (1 bis 5) erfasst. \n",
                "\n",
                "- Da wir besser mit einheitlich skalierten Werten umgehen können, wird zunächst die Variable \"`entmutigen`\" in das gleiche Format überführt.\n",
                "\n",
                "## Variable im Original speichern\n",
                "\n",
                "- Da wir die Variable `entmutigen` nicht versehentlich durch Datentransformationen fehlerhaft verändern möchten, speichern wir sie zunächst nochmals in der originalen Version ab (als `entmutigen_orig`). "
            ]
        },
        {
            "cell_type": "code",
            "execution_count": null,
            "metadata": {
                "output-location": "fragment"
            },
            "outputs": [],
            "source": [
                "df['entmutigen_orig'] = df['entmutigen']"
            ]
        },
        {
            "cell_type": "markdown",
            "metadata": {},
            "source": [
                "## Liste für Anpassung erzeugen\n",
                "\n",
                "- Erzeugung der Listen für die Veränderung der Variable (in der korrekten Reihenfolge):"
            ]
        },
        {
            "cell_type": "code",
            "execution_count": null,
            "metadata": {
                "output-location": "fragment"
            },
            "outputs": [],
            "source": [
                "werte = [1, 2, 3, 4, 5]\n",
                "\n",
                "likert = [\"trifft überhaupt nicht zu\",\n",
                "          \"trifft eher nicht zu\",\n",
                "          \"teils teils\",\n",
                "          \"trifft eher zu\",\n",
                "          \"trifft völlig zu\"]"
            ]
        },
        {
            "cell_type": "markdown",
            "metadata": {},
            "source": [
                "## Variable anpassen"
            ]
        },
        {
            "cell_type": "code",
            "execution_count": null,
            "metadata": {
                "output-location": "fragment"
            },
            "outputs": [],
            "source": [
                "df['entmutigen'].replace(werte, likert, inplace=True)\n",
                "\n",
                "df['entmutigen'].head()"
            ]
        },
        {
            "cell_type": "markdown",
            "metadata": {},
            "source": []
        },
        {
            "cell_type": "code",
            "execution_count": null,
            "metadata": {
                "output-location": "fragment"
            },
            "outputs": [],
            "source": [
                "df['entmutigen_orig'].head()"
            ]
        },
        {
            "cell_type": "markdown",
            "metadata": {},
            "source": [
                "# Ordinale Variablen\n",
                "\n",
                "## Liste erstellen \n",
                "\n",
                "- Erstellung einer Liste:"
            ]
        },
        {
            "cell_type": "code",
            "execution_count": null,
            "metadata": {
                "output-location": "fragment"
            },
            "outputs": [],
            "source": [
                "list_ordinal = [\"sport\", \"fleissig\", \"talente\", \"entmutigen\"]"
            ]
        },
        {
            "cell_type": "markdown",
            "metadata": {},
            "source": [
                "## Verwendung von pandas CategoricalDtype"
            ]
        },
        {
            "cell_type": "code",
            "execution_count": null,
            "metadata": {
                "output-location": "fragment"
            },
            "outputs": [],
            "source": [
                "cat_type = CategoricalDtype(categories=likert, ordered=True)\n",
                "\n",
                "cat_type"
            ]
        },
        {
            "cell_type": "markdown",
            "metadata": {},
            "source": [
                "## Ordinale Variablen anpassen"
            ]
        },
        {
            "cell_type": "code",
            "execution_count": null,
            "metadata": {},
            "outputs": [],
            "source": [
                "df[list_ordinal] = df[list_ordinal].astype(cat_type)"
            ]
        },
        {
            "cell_type": "markdown",
            "metadata": {},
            "source": []
        },
        {
            "cell_type": "code",
            "execution_count": null,
            "metadata": {
                "output-location": "fragment"
            },
            "outputs": [],
            "source": [
                "df[\"sport\"]"
            ]
        },
        {
            "cell_type": "markdown",
            "metadata": {},
            "source": []
        },
        {
            "cell_type": "code",
            "execution_count": null,
            "metadata": {
                "output-location": "fragment"
            },
            "outputs": [],
            "source": [
                "# Anzeige der Ausprägungen\n",
                "df['sport'].cat.categories"
            ]
        },
        {
            "cell_type": "markdown",
            "metadata": {},
            "source": [
                "## Liste der kategorialen Variablen erstellen"
            ]
        },
        {
            "cell_type": "code",
            "execution_count": null,
            "metadata": {
                "output-location": "fragment"
            },
            "outputs": [],
            "source": [
                "list_cat = list_nominal + list_ordinal"
            ]
        },
        {
            "cell_type": "markdown",
            "metadata": {},
            "source": [
                "# Numerische Variablen\n",
                "\n",
                "## Übersicht \n",
                "\n",
                "- Wir behandeln zunächst die \"eindeutig\" numerischen Variablen (d.h. wir ignorieren die quasi-metrischen). diese wären:\n",
                "\n",
                "- einkommen\n",
                "- energie\n",
                "- megacity\n",
                "- geleebohnen\n",
                "- soziale_medien\n",
                "- studium\n",
                "- alter\n",
                "\n",
                "## Liste erstellen"
            ]
        },
        {
            "cell_type": "code",
            "execution_count": null,
            "metadata": {
                "output-location": "fragment"
            },
            "outputs": [],
            "source": [
                "list_num = ['einkommen', 'energie', 'megacity', 'geleebohnen',\n",
                "            'soziale_medien', 'studium', 'alter']\n",
                "\n",
                "df[list_num].info()"
            ]
        },
        {
            "cell_type": "markdown",
            "metadata": {},
            "source": [
                "## Erkenntnisse\n",
                "\n",
                "- Wir können mit `df.info()` erkennen, dass abgesehen von `energie` bereits alle Variablen korrrekt als \"int64\" vorliegen\n",
                "\n",
                "- Siehe zur Bedeutung von `int64` diesen [Stackoverflow-Beitrag](https://stackoverflow.com/questions/9696660/what-is-the-difference-between-int-int16-int32-and-int64)) \n",
                "\n",
                "\n",
                "## Untersuchung von Problemen"
            ]
        },
        {
            "cell_type": "code",
            "execution_count": null,
            "metadata": {
                "output-location": "fragment"
            },
            "outputs": [],
            "source": [
                "df['energie'].head()"
            ]
        },
        {
            "cell_type": "markdown",
            "metadata": {},
            "source": [
                "- In den Antwortmöglichkeiten der Variable waren neben numerischen Werten auch Buchstaben und ein Sonderzeichen enthalen: \"ca.\" und \"%\". \n",
                "\n",
                "- Damit wir sinnvoll mit der Variable arbeiten können, müssen diese entfernt werden. \n",
                "\n",
                "## Variable im Original speichern {.smaller}\n",
                "\n",
                "- Da wir die Variable nicht versehentlich durch Datentransformationen korrumpieren möchten, speichern wir sie zunächst nochmals in der originalen Version ab (als `energie_orig`). \n",
                "\n",
                "- Um die numerischen Werte leichter extrahieren zu können, nutzen wir das Format \"String\"."
            ]
        },
        {
            "cell_type": "code",
            "execution_count": null,
            "metadata": {
                "output-location": "fragment"
            },
            "outputs": [],
            "source": [
                "df['energie_orig'] = df['energie'].astype(\"string\")"
            ]
        },
        {
            "cell_type": "markdown",
            "metadata": {},
            "source": [
                "## Regular Expressions {.smaller}\n",
                "\n",
                "- Im nächsten Schritt nutzen wir einen [regulärer Ausdruck](https://www.w3schools.com/python/python_regex.asp) (englisch regular expression, Abkürzung RegExp oder Regex) um die Zahl aus dem String zu extrahieren. \n",
                "\n",
                "|Ausdruck|Bedeutung|Beschreibung|\n",
                "|:----|:----|:----|\n",
                "|\\d|digit|eine Ziffer, also [0-9] (und evtl. auch weitere Zahlzeichen in Unicode, z. B. bengalische Ziffern)|\n",
                "|\\D|no digit|ein Zeichen, das keine Ziffer ist, also [^\\d]|\n",
                "|\\w|word character|ein Buchstabe, eine Ziffer oder der Unterstrich, also [a-zA-Z_0-9] (und evtl. auch nicht-lateinische Buchstaben, z. B. Umlaute)|\n",
                "|\\W|no word character|ein Zeichen, das weder Buchstabe noch Zahl noch Unterstrich ist, also [^\\w]|\n",
                "|\\s|whitespace|meist zumindest das Leerzeichen und die Klasse der Steuerzeichen \\f, \\n, \\r, \\t und \\v|\n",
                "|\\S|no whitespace|ein Zeichen, das kein Whitespace ist, also [^\\s]|\n",
                "\n",
                "## Anpassung der Variable\n",
                "\n",
                "- Falls mehr als ein einzelnes Zeichen extrahiert werden soll, muss am Ende des Ausdrucks ein `+` hinzugefügt werden.\n",
                "\n",
                "- Wir nutzen regular expressions und überschreiben die alte Variable `energie` mit dem neuen Eintrag. \n",
                "\n",
                "- Zudem speichern wir sie als integer.\n",
                "\n",
                "## Anpassung der Variable\n",
                "\n"
            ]
        },
        {
            "cell_type": "code",
            "execution_count": null,
            "metadata": {},
            "outputs": [],
            "source": [
                "df['energie'] = df['energie_orig'].str.extract('(\\d+)').astype(int)"
            ]
        },
        {
            "cell_type": "markdown",
            "metadata": {},
            "source": []
        },
        {
            "cell_type": "code",
            "execution_count": null,
            "metadata": {
                "output-location": "fragment"
            },
            "outputs": [],
            "source": [
                "df[['energie_orig', 'energie']].head()"
            ]
        },
        {
            "cell_type": "markdown",
            "metadata": {},
            "source": [
                "# Quasi-metrische Variablen\n",
                "\n",
                "## Kontext\n",
                "\n",
                "- Variablen `sport`,`fleissig`, und `talente` wurden mit Hilfe einer  [Likert-Skala](https://de.wikipedia.org/wiki/Likert-Skala) erhoben und könnten somit auch als \"quasi-metrisch\" behandelt werden (anstelle von ordinal).\n",
                "\n",
                "- Dabei muss jedoch beachtet werden, dass bspw. der Mittelwert aufgrund der Art der Messung (insbesondere wenn eine neutrale mittlere Ausprägung verwendet wird) an Aussagekraft verlieren.\n",
                "\n",
                "\n",
                "## Originaldaten sichern {.smaller}\n",
                "\n",
                "- Damit wir die Originaldaten nicht \"verlieren\", erzeugen wir neue Variablen. \n",
                "\n",
                "- Dafür kopieren wir die Daten und fügen diesen die Endung \"qm\" (für quasimetrisch) hinzu. \n",
                "\n"
            ]
        },
        {
            "cell_type": "code",
            "execution_count": null,
            "metadata": {},
            "outputs": [],
            "source": [
                "for i in list_ordinal:\n",
                "    df[i + \"_qm\"] = df[i]"
            ]
        },
        {
            "cell_type": "markdown",
            "metadata": {},
            "source": [
                "## Liste erzeugen\n"
            ]
        },
        {
            "cell_type": "code",
            "execution_count": null,
            "metadata": {
                "output-location": "fragment"
            },
            "outputs": [],
            "source": [
                "# Erstellung der Liste mit Hilfe von filter und regular expressions\n",
                "list_qm = df.filter(regex='_qm').columns.to_list()\n",
                "list_qm"
            ]
        },
        {
            "cell_type": "markdown",
            "metadata": {},
            "source": [
                "## Info"
            ]
        },
        {
            "cell_type": "code",
            "execution_count": null,
            "metadata": {
                "output-location": "fragment"
            },
            "outputs": [],
            "source": [
                "df[list_qm].info()"
            ]
        },
        {
            "cell_type": "markdown",
            "metadata": {},
            "source": [
                "## Skalierung anpassen\n",
                "\n",
                "- Wir nutzen nun ein ähnliches Vorgehen wie bei der Anpassung der Variable \"entmutigen\"\n",
                "\n"
            ]
        },
        {
            "cell_type": "code",
            "execution_count": null,
            "metadata": {
                "output-location": "fragment"
            },
            "outputs": [],
            "source": [
                "for i in list_qm:\n",
                "    df[i].replace(likert, werte, inplace=True)\n",
                "    df[i] = df[i].astype(\"int\")"
            ]
        },
        {
            "cell_type": "markdown",
            "metadata": {},
            "source": [
                "## Daten anzeigen"
            ]
        },
        {
            "cell_type": "code",
            "execution_count": null,
            "metadata": {
                "output-location": "fragment"
            },
            "outputs": [],
            "source": [
                "df[list_qm].head()"
            ]
        },
        {
            "cell_type": "markdown",
            "metadata": {},
            "source": []
        },
        {
            "cell_type": "code",
            "execution_count": null,
            "metadata": {
                "output-location": "fragment"
            },
            "outputs": [],
            "source": [
                "df[list_qm].info()"
            ]
        },
        {
            "cell_type": "markdown",
            "metadata": {},
            "source": [
                "## Liste für metrische Variablen\n"
            ]
        },
        {
            "cell_type": "code",
            "execution_count": null,
            "metadata": {
                "output-location": "fragment"
            },
            "outputs": [],
            "source": [
                "list_metric = list_num + list_qm"
            ]
        },
        {
            "cell_type": "code",
            "execution_count": null,
            "metadata": {
                "output-location": "fragment"
            },
            "outputs": [],
            "source": [
                "PATH = \"../data/\"\n",
                "FILE = \"clean_data\"\n",
                "FORMAT_CSV = \".csv\""
            ]
        },
        {
            "cell_type": "code",
            "execution_count": null,
            "metadata": {
                "output-location": "fragment"
            },
            "outputs": [],
            "source": [
                "df.to_csv(PATH + FILE + FORMAT_CSV, index=False)"
            ]
        },
        {
            "cell_type": "code",
            "execution_count": null,
            "metadata": {
                "output-location": "fragment"
            },
            "outputs": [],
            "source": [
                "FORMAT_EXCEL = \".xlsx\"\n",
                "\n",
                "df.to_excel(PATH + FILE + FORMAT_EXCEL, index=False)"
            ]
        }
    ],
    "metadata": {
        "kernelspec": {
            "display_name": "Python 3 (ipykernel)",
            "language": "python",
            "name": "python3"
        }
    },
    "nbformat": 4,
    "nbformat_minor": 4
}
